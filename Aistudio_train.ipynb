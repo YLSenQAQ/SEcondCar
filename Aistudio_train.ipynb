{
 "cells": [
  {
   "cell_type": "code",
   "execution_count": 1,
   "metadata": {
    "collapsed": false
   },
   "outputs": [
    {
     "name": "stdout",
     "output_type": "stream",
     "text": [
      "data84434\r\n"
     ]
    }
   ],
   "source": [
    "# 查看当前挂载的数据集目录, 该目录下的变更重启环境后会自动还原\n",
    "# View dataset directory. \n",
    "# This directory will be recovered automatically after resetting environment. \n",
    "!ls /home/aistudio/data"
   ]
  },
  {
   "cell_type": "code",
   "execution_count": 2,
   "metadata": {
    "collapsed": false
   },
   "outputs": [],
   "source": [
    "# 查看工作区文件, 该目录下的变更将会持久保存. 请及时清理不必要的文件, 避免加载过慢.\n",
    "# View personal work directory. \n",
    "# All changes under this directory will be kept even after reset. \n",
    "# Please clean unnecessary files in time to speed up environment loading. \n",
    "!ls /home/aistudio/work"
   ]
  },
  {
   "cell_type": "code",
   "execution_count": 3,
   "metadata": {
    "collapsed": false
   },
   "outputs": [
    {
     "name": "stdout",
     "output_type": "stream",
     "text": [
      "mkdir: cannot create directory ‘/home/aistudio/external-libraries’: File exists\n",
      "Looking in indexes: https://pypi.mirrors.ustc.edu.cn/simple/\n",
      "Collecting beautifulsoup4\n",
      "  Using cached https://mirrors.bfsu.edu.cn/pypi/web/packages/d1/41/e6495bd7d3781cee623ce23ea6ac73282a373088fcd0ddc809a047b18eae/beautifulsoup4-4.9.3-py3-none-any.whl\n",
      "Collecting soupsieve>1.2; python_version >= \"3.0\" (from beautifulsoup4)\n",
      "  Using cached https://mirrors.bfsu.edu.cn/pypi/web/packages/36/69/d82d04022f02733bf9a72bc3b96332d360c0c5307096d76f6bb7489f7e57/soupsieve-2.2.1-py3-none-any.whl\n",
      "Installing collected packages: soupsieve, beautifulsoup4\n",
      "Successfully installed beautifulsoup4-4.9.3 soupsieve-2.2.1\n",
      "\u001b[33mWARNING: Target directory /home/aistudio/external-libraries/soupsieve-2.2.1.dist-info already exists. Specify --upgrade to force replacement.\u001b[0m\n",
      "\u001b[33mWARNING: Target directory /home/aistudio/external-libraries/soupsieve already exists. Specify --upgrade to force replacement.\u001b[0m\n",
      "\u001b[33mWARNING: Target directory /home/aistudio/external-libraries/beautifulsoup4-4.9.3.dist-info already exists. Specify --upgrade to force replacement.\u001b[0m\n",
      "\u001b[33mWARNING: Target directory /home/aistudio/external-libraries/bs4 already exists. Specify --upgrade to force replacement.\u001b[0m\n"
     ]
    }
   ],
   "source": [
    "# 如果需要进行持久化安装, 需要使用持久化路径, 如下方代码示例:\n",
    "# If a persistence installation is required, \n",
    "# you need to use the persistence path as the following: \n",
    "!mkdir /home/aistudio/external-libraries\n",
    "!pip install beautifulsoup4 -t /home/aistudio/external-libraries"
   ]
  },
  {
   "cell_type": "code",
   "execution_count": 4,
   "metadata": {
    "collapsed": false
   },
   "outputs": [],
   "source": [
    "# 同时添加如下代码, 这样每次环境(kernel)启动的时候只要运行下方代码即可: \n",
    "# Also add the following code, \n",
    "# so that every time the environment (kernel) starts, \n",
    "# just run the following code: \n",
    "import sys \n",
    "sys.path.append('/home/aistudio/external-libraries')"
   ]
  },
  {
   "cell_type": "code",
   "execution_count": 5,
   "metadata": {
    "collapsed": false
   },
   "outputs": [],
   "source": [
    "from __future__ import print_function\r\n",
    "import numpy as np\r\n",
    "import sys \r\n",
    "import matplotlib.pyplot as plt\r\n",
    "import pandas as pd\r\n",
    "import paddle\r\n",
    "import paddle.fluid as fluid\r\n",
    "import math"
   ]
  },
  {
   "cell_type": "code",
   "execution_count": 1,
   "metadata": {
    "collapsed": false
   },
   "outputs": [
    {
     "output_type": "error",
     "ename": "NameError",
     "evalue": "name 'fluid' is not defined",
     "traceback": [
      "\u001b[1;31m---------------------------------------------------------------------------\u001b[0m",
      "\u001b[1;31mNameError\u001b[0m                                 Traceback (most recent call last)",
      "\u001b[1;32m<ipython-input-1-80cbd3705ff9>\u001b[0m in \u001b[0;36m<module>\u001b[1;34m\u001b[0m\n\u001b[0;32m      7\u001b[0m \u001b[0mlearning_rate\u001b[0m \u001b[1;33m=\u001b[0m \u001b[1;36m0.005\u001b[0m  \u001b[1;31m#学习率\u001b[0m\u001b[1;33m\u001b[0m\u001b[1;33m\u001b[0m\u001b[0m\n\u001b[0;32m      8\u001b[0m \u001b[0muse_cuda\u001b[0m \u001b[1;33m=\u001b[0m \u001b[1;32mTrue\u001b[0m \u001b[1;31m#True=GPU ，False=cpu\u001b[0m\u001b[1;33m\u001b[0m\u001b[1;33m\u001b[0m\u001b[0m\n\u001b[1;32m----> 9\u001b[1;33m \u001b[0mplace\u001b[0m \u001b[1;33m=\u001b[0m \u001b[0mfluid\u001b[0m\u001b[1;33m.\u001b[0m\u001b[0mCUDAPlace\u001b[0m\u001b[1;33m(\u001b[0m\u001b[1;36m0\u001b[0m\u001b[1;33m)\u001b[0m \u001b[1;32mif\u001b[0m \u001b[0muse_cuda\u001b[0m \u001b[1;32melse\u001b[0m \u001b[0mfluid\u001b[0m\u001b[1;33m.\u001b[0m\u001b[0mCPUPlace\u001b[0m\u001b[1;33m(\u001b[0m\u001b[1;33m)\u001b[0m\u001b[1;33m\u001b[0m\u001b[1;33m\u001b[0m\u001b[0m\n\u001b[0m",
      "\u001b[1;31mNameError\u001b[0m: name 'fluid' is not defined"
     ]
    }
   ],
   "source": [
    "datapath=\"data/data84434/mycar.csv\" #训练集\n",
    "testdatapath=\"data/data84434/test.csv\"#验证集\n",
    "\n",
    "params_dirname = \"mycar.model\" #params_dirname用于定义模型保存路径。\n",
    "BATCH_SIZE = 100 #定义每次读取数据量大小\n",
    "num_epochs = 20  #训练轮次\n",
    "learning_rate = 0.005  #学习率\n",
    "use_cuda = True #True=GPU ，False=cpu\n",
    "place = fluid.CUDAPlace(0) if use_cuda else fluid.CPUPlace()\n"
   ]
  },
  {
   "cell_type": "markdown",
   "metadata": {
    "collapsed": false
   },
   "source": [
    "* 上牌时间(0-140) time\n",
    "* 里程数(0-250000) meter\n",
    "* 汽车厂商(1-10) broad    \n",
    "* 汽车类型(1-4) Model\n",
    "* 汽车排量(0-6.2)displacement\n",
    "* 最大马力(20-585)horsepower\n",
    "* 变速箱(1-3)Gearbox\n",
    "* 重大事故(0-1) accident\n",
    "* 泡水火烧(0-1) soak\n",
    "* 轻微碰撞(0-1) slight_collision\n",
    "* 漆面修复次数(0-3) Paint_repair\n",
    "* 钣金修复次数(0-3) Sheet_metal_repair\n",
    "* 外观件更换次数(0-3)  Appearance_replacement\n",
    "* \n",
    "\n",
    "\n",
    "\n"
   ]
  },
  {
   "cell_type": "markdown",
   "metadata": {
    "collapsed": false
   },
   "source": [
    "读取处理数据 定义模型"
   ]
  },
  {
   "cell_type": "code",
   "execution_count": 7,
   "metadata": {
    "collapsed": false
   },
   "outputs": [
    {
     "name": "stdout",
     "output_type": "stream",
     "text": [
      "       time     meter     broad     Model  displacement  horsepower  Gearbox  \\\n",
      "0  0.409091  0.385457  0.888889  0.333333      1.000000    0.219469      0.0   \n",
      "1  0.214286  0.153954  1.000000  1.000000      0.000000    0.722124      1.0   \n",
      "2  0.584416  0.538231  0.444444  0.333333      0.666667    0.734513      0.5   \n",
      "3  0.168831  0.153128  0.333333  0.000000      0.000000    0.207080      0.0   \n",
      "4  0.396104  0.385190  0.111111  0.333333      0.833333    0.341593      0.5   \n",
      "\n",
      "   accident  soak  slight_collision  Paint_repair  Sheet_metal_repair  \\\n",
      "0       0.0   0.0          1.000000      1.000000            1.000000   \n",
      "1       0.0   0.0          0.666667      1.000000            0.000000   \n",
      "2       0.0   0.0          1.000000      0.000000            0.666667   \n",
      "3       0.0   0.0          0.666667      1.000000            0.333333   \n",
      "4       0.0   0.0          0.000000      0.333333            0.333333   \n",
      "\n",
      "   Appearance_replacement     price  \n",
      "0                0.333333  0.207784  \n",
      "1                0.333333  0.460033  \n",
      "2                0.000000  0.274246  \n",
      "3                0.333333  0.336186  \n",
      "4                1.000000  0.369946  \n",
      "[0.40909091 0.38545669 0.88888889 0.33333333 1.         0.21946903\n",
      " 0.         0.         0.         1.         1.         1.\n",
      " 0.33333333 0.207784  ]\n",
      "[[0.40909091 0.38545669 0.88888889 ... 1.         0.33333333 0.207784  ]\n",
      " [0.21428571 0.15395388 1.         ... 0.         0.33333333 0.46003282]\n",
      " [0.58441558 0.53823069 0.44444444 ... 0.66666667 0.         0.2742457 ]\n",
      " ...\n",
      " [0.47402597 0.46151281 0.66666667 ... 0.66666667 1.         0.18953141]\n",
      " [0.40909091 0.38432298 0.11111111 ... 1.         0.66666667 0.24213374]\n",
      " [0.18181818 0.15469772 0.11111111 ... 0.66666667 0.66666667 0.38034559]]\n",
      "7992\n",
      "test_array for read_data:\n",
      "([10], [100])\n",
      "([20], [200])\n"
     ]
    }
   ],
   "source": [
    "data = pd.read_csv(datapath)#读取数据\n",
    "row = data.shape[0]\n",
    "column = data.shape[1]\n",
    "data_2=data\n",
    "global x_raw,train_data,test_data\n",
    "x_raw = data_2.T.copy()\n",
    "maximums, minimums, avgs= data_2.max(axis=0), data_2.min(axis=0), data_2.mean(axis=0)\n",
    "feature_num = data_2.shape[1]\n",
    "for i in range(feature_num-1):#售价不用改\n",
    "    data_2.iloc[:, [i]] = (data_2.iloc[:, [i]]- minimums[i])/(maximums[i]-minimums[i])#归一化\n",
    "\n",
    "\n",
    "print(data_2.head())\n",
    "\n",
    "#划分训练集 测试集\n",
    "data_3=np.array(data_2)\n",
    "print(data_3[0])\n",
    "ratio = 0.8\n",
    "offset = int(data_3.shape[0]*ratio)\n",
    "train_data = data_3[:offset].copy()\n",
    "test_data = data_3[offset:].copy()\n",
    "print(train_data)\n",
    "print(len(train_data))\n",
    "\n",
    "#读取器\n",
    "def read_data(data_set):\n",
    "\n",
    "    def reader():\n",
    "        \"\"\"\n",
    " \n",
    "        Return：\n",
    "            data[:-1],data[-1:] --使用yield返回生成器\n",
    "                data[:-1]表示前n-1个元素，也就是训练数据，\n",
    "                data[-1:]表示最后一个元素，也就是对应的标签(价格)\n",
    "        \"\"\"\n",
    "        for data in data_set:\n",
    "            yield data[:-1],data[-1:]\n",
    "    return reader\n",
    "test_array = ([10,100],[20,200])\n",
    "print(\"test_array for read_data:\")\n",
    "for value in read_data(test_array)():\n",
    "    print(value)   \n",
    "\n",
    "# 设置训练reader\n",
    "train_reader = paddle.batch(\n",
    "    paddle.reader.shuffle(\n",
    "        read_data(train_data), \n",
    "        buf_size=1000)#表示每次缓存BUF_SIZE个数据项，并进行打乱\n",
    "        ,batch_size=BATCH_SIZE)\n",
    "\n",
    "#设置测试 reader\n",
    "test_reader = paddle.batch(\n",
    "    paddle.reader.shuffle(\n",
    "        read_data(test_data), \n",
    "        buf_size=1000),\n",
    "    batch_size=BATCH_SIZE)\n",
    "\n",
    "#定义训练模型\n",
    "\n",
    "x = fluid.layers.data(name='x', shape=[13], dtype='float32')\n",
    "# 标签数据，fluid.layers.data表示数据层,name=’y’：名称为y,输出类型为tensor\n",
    "y = fluid.layers.data(name='y', shape=[1], dtype='float32')\n",
    "# 输出层，fluid.layers.fc表示全连接层，input=x: 该层输入数据为x\n",
    "y_first = fluid.layers.fc(input=x, size=4, act=None, bias_attr=True)\n",
    "y_predict = fluid.layers.fc(input=y_first, size=1, act=None, bias_attr=True)\n",
    "\n",
    "# 定义损失函数为均方差损失函数,并且求平均损失，返回值名称为avg_loss\n",
    "loss = fluid.layers.square_error_cost(input=y_predict, label=y)\n",
    "avg_loss = fluid.layers.mean(loss)\n",
    "# 定义执行器(参数随机初始化):\n",
    "exe = fluid.Executor(place)\n",
    "# 配置训练程序:\n",
    "main_program = fluid.default_main_program() # 获取默认/全局主函数\n",
    "startup_program = fluid.default_startup_program() # 获取默认/全局启动程序\n",
    "#克隆main_program得到test_program\n",
    "#有些operator在训练和测试之间的操作是不同的，例如batch_norm，使用参数for_test来区分该程序是用来训练还是用来测试\n",
    "#该api不会删除任何操作符,请在backward和optimization之前使用\n",
    "test_program = main_program.clone(for_test=True)\n",
    "\n",
    "sgd_optimizer = fluid.optimizer.SGDOptimizer(learning_rate)\n",
    "# sgd_optimizer = fluid.optimizer.SGD(learning_rate)  # 随机梯度下降\n",
    "# sgd_optimizer = fluid.optimizer.Adam(learning_rate)\n",
    "sgd_optimizer.minimize(avg_loss)\n",
    "\n",
    "\n",
    "def train_test(executor, program, reader, feeder, fetch_list):\n",
    "    accumulated = 1 * [0]\n",
    "    count = 0\n",
    "    for data_test in reader():\n",
    "        outs = executor.run(\n",
    "            program=program, feed=feeder.feed(data_test), fetch_list=fetch_list)\n",
    "        accumulated = [x_c[0] + x_c[1][0] for x_c in zip(accumulated, outs)]  # 累加测试过程中的损失值\n",
    "        count += 1 # 累加测试集中的样本数量\n",
    "    return [x_d / count for x_d in accumulated] # 计算平均损失\n",
    "\n",
    "\n",
    "\n"
   ]
  },
  {
   "cell_type": "markdown",
   "metadata": {
    "collapsed": false
   },
   "source": [
    "训练"
   ]
  },
  {
   "cell_type": "code",
   "execution_count": 8,
   "metadata": {
    "collapsed": false
   },
   "outputs": [
    {
     "data": {
      "image/png": "[encoded data removed]",
      "text/plain": [
       "<Figure size 432x288 with 1 Axes>"
      ]
     },
     "metadata": {},
     "output_type": "display_data"
    },
    {
     "name": "stdout",
     "output_type": "stream",
     "text": [
      "0\n",
      "Test cost, Step 0, Cost 0.941696\n",
      "1\n",
      "Test cost, Step 100, Cost 0.057308\n",
      "2\n",
      "Test cost, Step 200, Cost 0.039609\n",
      "3\n",
      "Test cost, Step 300, Cost 0.028757\n",
      "5\n",
      "Test cost, Step 400, Cost 0.021703\n",
      "6\n",
      "Test cost, Step 500, Cost 0.016962\n",
      "7\n",
      "Test cost, Step 600, Cost 0.013612\n",
      "8\n",
      "Test cost, Step 700, Cost 0.011192\n",
      "10\n",
      "Test cost, Step 800, Cost 0.009403\n",
      "11\n",
      "Test cost, Step 900, Cost 0.008067\n",
      "12\n",
      "Test cost, Step 1000, Cost 0.007031\n",
      "13\n",
      "Test cost, Step 1100, Cost 0.006222\n",
      "15\n",
      "Test cost, Step 1200, Cost 0.005582\n",
      "16\n",
      "Test cost, Step 1300, Cost 0.005060\n",
      "17\n",
      "Test cost, Step 1400, Cost 0.004633\n",
      "18\n",
      "Test cost, Step 1500, Cost 0.004276\n"
     ]
    },
    {
     "data": {
      "text/plain": [
       "<Figure size 432x288 with 0 Axes>"
      ]
     },
     "metadata": {},
     "output_type": "display_data"
    }
   ],
   "source": [
    "#用于画图展示训练cost\n",
    "from paddle.utils.plot import Ploter\n",
    "train_prompt = \"Train cost\"\n",
    "test_prompt = \"Test cost\"\n",
    "plot_prompt = Ploter(train_prompt, test_prompt)\n",
    "step = 0\n",
    "\n",
    "# 训练主循环\n",
    "feeder = fluid.DataFeeder(place=place, feed_list=[x, y])\n",
    "exe.run(startup_program)\n",
    "exe_test = fluid.Executor(place)\n",
    "\n",
    "\n",
    "\n",
    "for pass_id in range(num_epochs):\n",
    "\n",
    "    for data_train in train_reader():\n",
    "        avg_loss_value, = exe.run(main_program,\n",
    "                                  fetch_list=[avg_loss],\n",
    "                                  feed=feeder.feed(data_train))\n",
    "        if step % 10 == 0:  # 每10个批次记录并输出一下训练损失.\n",
    "            plot_prompt.append(train_prompt, step, avg_loss_value[0])\n",
    "            plot_prompt.plot()\n",
    "\n",
    "        if step % 100 == 0:  # 每100批次记录并输出一下测试损失\n",
    "            test_metics = train_test(executor=exe_test,\n",
    "                                     program=test_program,\n",
    "                                     reader=test_reader,\n",
    "                                     fetch_list=[avg_loss.name],\n",
    "                                     feeder=feeder)\n",
    "            plot_prompt.append(test_prompt, step, test_metics[0])\n",
    "            plot_prompt.plot()\n",
    "            print(pass_id)\n",
    "            print(\"%s, Step %d, Cost %f\" %(test_prompt, step, test_metics[0]))\n",
    "        step += 1\n",
    "\n",
    "        if math.isnan(float(avg_loss_value[0])):\n",
    "            sys.exit(\"got NaN loss, training failed.\")\n",
    "\n",
    "        #保存训练参数到之前给定的路径中\n",
    "        if params_dirname is not None:\n",
    "            fluid.io.save_inference_model(params_dirname, ['x'], [y_predict], exe)\n"
   ]
  },
  {
   "cell_type": "markdown",
   "metadata": {
    "collapsed": false
   },
   "source": [
    "验证"
   ]
  },
  {
   "cell_type": "code",
   "execution_count": 12,
   "metadata": {
    "collapsed": false
   },
   "outputs": [
    {
     "name": "stdout",
     "output_type": "stream",
     "text": [
      "±△= 0.04711204052811513\r"
     ]
    }
   ],
   "source": [
    "infer_exe = fluid.Executor(place)    #创建推测用的executor\n",
    "inference_scope = fluid.core.Scope() #Scope指定作用域\n",
    "\n",
    "with fluid.scope_guard(inference_scope):#修改全局/默认作用域（scope）, 运行时的所有变量都将分配给新的scope。\n",
    "    #从指定目录中加载 预测用的model(inference model)\n",
    "    [inference_program,                             #推理的program\n",
    "     feed_target_names,                             #需要在推理program中提供数据的变量名称\n",
    "     fetch_targets] = fluid.io.load_inference_model(   #fetch_targets: 推断结果\n",
    "                                    params_dirname,    #model_save_dir:模型训练路径 \n",
    "                                    infer_exe)         #infer_exe: 预测用executor\n",
    "   \n",
    "    datatest = pd.read_csv(testdatapath)\n",
    "    row2 = datatest.shape[0]\n",
    "    print(row2)\n",
    "    data_2= datatest.loc[:,['time', 'meter', 'broad', 'Model', 'displacement',\n",
    "           'horsepower','Gearbox','accident','soak','slight_collision',\n",
    "           'Paint_repair','Sheet_metal_repair','Appearance_replacement']]\n",
    "    data_y=np.array(datatest.loc[:,['price']])\n",
    "\n",
    "    maximums, minimums, avgs= data.max(axis=0), data.min(axis=0), data.mean(axis=0)\n",
    "    feature_num = data_2.shape[1]\n",
    "    for i in range(feature_num):#售价不用改\n",
    "        data_2.iloc[:, [i]] = (data_2.iloc[:, [i]]- minimums[i])/(maximums[i]-minimums[i])\n",
    "    \n",
    "    data_3=np.array(data_2)\n",
    "    step=0\n",
    "    array_lost=[]\n",
    "    for number in range(row2):\n",
    "        tensor_x = []\n",
    "        tensor_x = [np.array(data_3[number]).astype(\"float32\")]\n",
    "        #print(tensor_x)\n",
    "        results = infer_exe.run(inference_program,                              #预测模型\n",
    "                            feed={feed_target_names[0]: np.array(tensor_x)},  #喂入要预测的x值\n",
    "                            fetch_list=fetch_targets)                       #得到推测结果 \n",
    "        step+=1               \n",
    "        \n",
    "        for idx, val in enumerate(results[0]):\n",
    "            if val[0]<0.05 :\n",
    "               \n",
    "                val2=0.05\n",
    "            else:\n",
    "                val2=val[0]\n",
    "                lost=abs(val2-data_y[number][0])#相差的绝对值\n",
    "                array_lost.append(lost)#只统计大于0.05的数据\n",
    "                \n",
    "            print(\"%d: 预测%.2f 实际%.2f △=%.2f\" % (number,val2,data_y[number],lost))\n",
    "          \n",
    "    mean_lost=np.mean(array_lost)\n",
    "    print(\"平均偏差：\")\n",
    "    print(\"±△=\",mean_lost)\n"
   ]
  },
  {
   "cell_type": "markdown",
   "metadata": {
    "collapsed": false
   },
   "source": [
    "预测"
   ]
  },
  {
   "cell_type": "code",
   "execution_count": 18,
   "metadata": {
    "collapsed": false
   },
   "outputs": [
    {
     "name": "stdout",
     "output_type": "stream",
     "text": [
      "平均偏差：±△= 0.04711204052811513\n",
      "13\n",
      "[array([0.25324675, 0.23113346, 0.8888889 , 0.33333334, 0.6666667 ,\n",
      "       0.8460177 , 0.5       , 0.        , 0.        , 0.        ,\n",
      "       0.33333334, 1.        , 0.        ], dtype=float32)]\n",
      " 预测：现价=（0.5367 ±0.0471）*原价\n"
     ]
    }
   ],
   "source": [
    "raw_x= [41,45058,9,2,4,498,2,0,0,0,1,3,0] #填入要预测的二手车的数据\n",
    "'''['time', 'meter', 'broad', 'Model', 'displacement',\n",
    "           'horsepower','Gearbox','accident','soak','slight_collision',\n",
    "           'Paint_repair','Sheet_metal_repair','Appearance_replacement']\n",
    "'''\n",
    "print(\"平均偏差：±△=\",mean_lost)\n",
    "tensor_x = []\n",
    "data = pd.read_csv(datapath)\n",
    "\n",
    "maximums, minimums, avgs= data.max(axis=0), data.min(axis=0), data.mean(axis=0)\n",
    "print(len(raw_x))\n",
    "for i in range(len(raw_x)):\n",
    "    tensor_x.append((raw_x[i] - minimums[i])/(maximums[i]-minimums[i]))\n",
    "\n",
    "\n",
    "tensor_x = [np.array(tensor_x).astype(\"float32\")]\n",
    "\n",
    "print(tensor_x)\n",
    "results = infer_exe.run(inference_program,                              #预测模型\n",
    "                    feed={feed_target_names[0]: np.array(tensor_x)},  #喂入要预测的x值\n",
    "                    fetch_list=fetch_targets)                       #得到推测结果             \n",
    "for idx, val in enumerate(results[0]):\n",
    "    if val[0]<0.05 :\n",
    "        val2=0.05\n",
    "    else:\n",
    "        val2=val[0]\n",
    "\n",
    "\n",
    "    print(\" 预测：现价=（%.4f ±%.4f）*原价\" % (val2,mean_lost))"
   ]
  },
  {
   "cell_type": "markdown",
   "metadata": {
    "collapsed": false
   },
   "source": [
    "请点击[此处](https://ai.baidu.com/docs#/AIStudio_Project_Notebook/a38e5576)查看本环境基本用法.  <br>\n",
    "Please click [here ](https://ai.baidu.com/docs#/AIStudio_Project_Notebook/a38e5576) for more detailed instructions. "
   ]
  },
  {
   "cell_type": "code",
   "execution_count": null,
   "metadata": {
    "collapsed": false
   },
   "outputs": [],
   "source": []
  }
 ],
 "metadata": {
  "kernelspec": {
   "name": "python383jvsc74a57bd01fb5760885f9b7a2daf15eac39f084d21e9bf0c1e9dc48df1b21c04c02d47828",
   "display_name": "Python 3.8.3 64-bit ('base': conda)"
  },
  "language_info": {
   "codemirror_mode": {
    "name": "ipython",
    "version": 3
   },
   "file_extension": ".py",
   "mimetype": "text/x-python",
   "name": "python",
   "nbconvert_exporter": "python",
   "pygments_lexer": "ipython3",
   "version": "3.8.3"
  }
 },
 "nbformat": 4,
 "nbformat_minor": 1
}